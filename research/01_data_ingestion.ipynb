{
 "cells": [
  {
   "cell_type": "code",
   "execution_count": 1,
   "id": "9330998a-2c85-470a-b73b-7bd2b867053a",
   "metadata": {},
   "outputs": [],
   "source": [
    "import os"
   ]
  },
  {
   "cell_type": "code",
   "execution_count": 2,
   "id": "dd3adf73-7010-436a-bb53-949bd496c184",
   "metadata": {},
   "outputs": [
    {
     "data": {
      "text/plain": [
       "'/Users/n10135651/Desktop/Desktop/Personal/0_2023/9_ML_MLOPS/ML-MLOPS/research'"
      ]
     },
     "execution_count": 2,
     "metadata": {},
     "output_type": "execute_result"
    }
   ],
   "source": [
    "%pwd"
   ]
  },
  {
   "cell_type": "code",
   "execution_count": null,
   "id": "cd7825e3-3718-4479-8e36-b59ac97c2009",
   "metadata": {},
   "outputs": [],
   "source": []
  }
 ],
 "metadata": {
  "kernelspec": {
   "display_name": "Python 3 (ipykernel)",
   "language": "python",
   "name": "python3"
  },
  "language_info": {
   "codemirror_mode": {
    "name": "ipython",
    "version": 3
   },
   "file_extension": ".py",
   "mimetype": "text/x-python",
   "name": "python",
   "nbconvert_exporter": "python",
   "pygments_lexer": "ipython3",
   "version": "3.8.17"
  }
 },
 "nbformat": 4,
 "nbformat_minor": 5
}
